{
  "nbformat": 4,
  "nbformat_minor": 0,
  "metadata": {
    "colab": {
      "name": "Trabalho Estatística e Probabilidade PLE.ipynb",
      "provenance": [],
      "collapsed_sections": [
        "5aTNjkgw6BQE",
        "pSw3BDG0saCS",
        "1UqMt25j6qSd",
        "xzC-713aG_h8",
        "uUqN_lVQ9mJ5",
        "YByTJ-LCGeDN",
        "K-bPVl50JKYZ",
        "2B1MgDfLLkYn",
        "BREp8ihDbaJv"
      ],
      "authorship_tag": "ABX9TyNfoe/rwd7cWVqfGkQYAgUW",
      "include_colab_link": true
    },
    "kernelspec": {
      "name": "python3",
      "display_name": "Python 3"
    }
  },
  "cells": [
    {
      "cell_type": "markdown",
      "metadata": {
        "id": "view-in-github",
        "colab_type": "text"
      },
      "source": [
        "<a href=\"https://colab.research.google.com/github/leticiatavaresds/Computacao-Concorrente---Escritores-e-Leitores/blob/master/Trabalho_Estat%C3%ADstica_e_Probabilidade_PLE.ipynb\" target=\"_parent\"><img src=\"https://colab.research.google.com/assets/colab-badge.svg\" alt=\"Open In Colab\"/></a>"
      ]
    },
    {
      "cell_type": "markdown",
      "metadata": {
        "id": "jwI6XE2hTakF"
      },
      "source": [
        "# **Trabalho de Simulação**\n",
        "### $Nome:$ $Letícia$  $Tavares$ $da$ $Silva$\n",
        "\n",
        "### $DRE: 117210390$"
      ]
    },
    {
      "cell_type": "markdown",
      "metadata": {
        "id": "5aTNjkgw6BQE"
      },
      "source": [
        "### Importando bibliotecas"
      ]
    },
    {
      "cell_type": "code",
      "metadata": {
        "id": "9qMnzYxPsbKS"
      },
      "source": [
        "import random\n",
        "from random import random\n",
        "from matplotlib import pyplot as plt\n",
        "from matplotlib.legend_handler import HandlerLine2D\n",
        "import math\n",
        "from math import *\n",
        "import numpy as np\n",
        "from numpy import random\n",
        "import pandas as pd"
      ],
      "execution_count": null,
      "outputs": []
    },
    {
      "cell_type": "markdown",
      "metadata": {
        "id": "dSA1KfWT5wkQ"
      },
      "source": [
        "# **QUESTÃO 1**"
      ]
    },
    {
      "cell_type": "markdown",
      "metadata": {
        "id": "g0kkbE2lW0bk"
      },
      "source": [
        "# a) \n",
        "\n",
        "Como a variável aleatória $X$ conta a quantidade de extrações até que haja repetição, $X$ apenas assume números inteiros com o mínimo sendo 2, já que para haver repetição tem que ter mais de uma extração, e o máximo sendo 11, pois pelo princípio da casa dos pombos, se há 10 bolas e 11 forem retiradas, haverá repetição, dessa forma $X$ não alcançará 12.\n",
        "\n",
        "Com isso, $X$ é uma variável aleatória discreta onde $X(\\omega) \\in  \\{2,3,4,5,6,7,8,9,10,11\\} \n",
        "\\forall \\omega \\in \\Omega$.\n",
        "\n",
        "A probabilidade de $X = 2$ é $\\frac{10}{10}$, para a primeira retirada, * $\\frac{1}{10}$  para a segunda retirada, já que a segunda bola tem que ser a mesma retirada anteriormente.\n",
        "\n",
        "A probabilidade de $X = 3$ é $\\frac{10}{10}$, para a primeira retirada, * $\\frac{9}{10}$  para a segunda retirada pois deve ser qualquer bola exceto a retirada anteriormente, * $\\frac{2}{10}$ já que a terceira bola tem que ser alguma das 2 já saídas anteriormente.\n",
        "\n",
        "Já a probabilidade de $X = 4$ é $\\frac{10}{10}$, para a primeira retirada, * $\\frac{9}{10}$  para a segunda retirada pois deve ser qualquer bola exceto a retirada anteriormente, * $\\frac{8}{10}$  para a terceira retirada pois deve ser qualquer bola exceto as retiradas anteriormente,  * $\\frac{3}{10}$ já que a quarta bola tem que ser alguma das 3 já saídas anteriormente.\n",
        "\n",
        "Seguindo esse padrão, a função de Probabilidade de $X$ é dada por:\n",
        "\n",
        "### $P(X = x)\\ = \\frac{A_{9,x-2}}{(AR)_{10,x-2}} * \\frac{x-1}{10} ,   x \\in  \\{2,3,4,5,6,7,8,9,10,11\\} $\n",
        "\n"
      ]
    },
    {
      "cell_type": "markdown",
      "metadata": {
        "id": "bEiu4jqkDuup"
      },
      "source": [
        "# b) \n",
        "A ideia apresentada no pseudo-código e códigos abaixo  para obter a função probabilidade empírica e a esperança é a seguinte:\n",
        "\n",
        "1. Gera-se um número pseudo-aleatório entre 0 e 1\n",
        "\n",
        "2. Verifica-se qual número foi gerado e atribui um resultado à variável aleatória X seguindo as condições abaixo:\n",
        "\n",
        "  *   Se o número estiver entre 0,0 e 0,1 -> X recebe 2\n",
        "\n",
        "  *   Se o número estiver entre 0,1 e 0,2 -> X recebe 3\n",
        "\n",
        "  *   Se o número estiver entre 0,2 e 0,3 -> X recebe 4\n",
        "\n",
        "  *   Se o número estiver entre 0,3 e 0,4 -> X recebe 5\n",
        "\n",
        "  *   Se o número estiver entre 0,4 e 0,5 -> X recebe 6\n",
        "\n",
        "  *   Se o número estiver entre 0,5 e 0,6 -> X recebe 7\n",
        "\n",
        "  *   Se o número estiver entre 0,6 e 0,7 -> X recebe 8 \n",
        "\n",
        "  *   Se o número estiver entre 0,7 e 0,8 -> X recebe 9\n",
        "\n",
        "  *   Se o número estiver entre 0,8 e 0,9 -> X recebe 10\n",
        "\n",
        "  *   Se o número estiver entre 0,9 e 1,0 -> X recebe 11\n",
        "\n",
        "3.  Guarda-se o valor no vetor X e depois volta-se para o etapa 1 até que essas 3 etapas tenham sido realizadas 5000 vezes.\n",
        "\n",
        "4. Percorre-se o vetor X contando quantas vezes um número aparece nele e aí calcula-se a probabilidade de X ser igual a esse número fazendo: quantidade de vezes que o número aparece no vetor dividido pelo total de elementos no vetor que é igual a 5000. Faz-se isso para todos os números do conjunto $\\{2,3,4,5,6,7,8,9,10,11\\}$ obtendo-se assim a Função de Probabilidade Empírica $P(X=x)$ para todo $x \\in \\{2,3,4,5,6,7,8,9,10,11\\}$. Por exemplo, a $P(X=2)$ será igual ao número de elementos iguais a 2 presentes no vetor dividido pelo total de elementos do vetor.\n",
        "\n",
        "5. Como a esperança é a média de $X$, calcula-se a esperança somando-se todos os elementos do vetor X e dividindo essa soma pelo número de elementos do vetor que é igual a $5000$, obtendo-se assim sua média aritmética.\n",
        "\n",
        "## Pseudo-Código\n",
        "\n",
        "\n",
        "```\n",
        "V_A_X <- Lista vazia\n",
        "m <- 0\n",
        "\n",
        "para i de 0 até 5000 faça:\n",
        "    Numeros_Saidos <- Lista vazia\n",
        "    x <- 0\n",
        "    j <- 0\n",
        "\n",
        "    enquanto 1, faça:\n",
        "        num <- random\n",
        "        m <- 0\n",
        "        para m de 0 até 9, faça:\n",
        "          se num for maior que m/10 E menor ou igual à (m+1)/10):\n",
        "            num <- m + 2\n",
        "            para\n",
        "        num <- num * 10 + 1\n",
        "        num <- parte inteira de num\n",
        "        x <- x + 1\n",
        "\n",
        "        se num estiver em Numeros_Saidos:\n",
        "            V_A_X[m] <- x\n",
        "            m <- m + 1\n",
        "            Pare\n",
        "        \n",
        "        Numeros_Saidos[j] <- num\n",
        "        j <- j + 1\n",
        "\n",
        "Probabilidade <- Lista Vazia\n",
        "\n",
        "para i de 2 a 11 faça:\n",
        "    vezes <- quantidade de i em V_A_X[]\n",
        "    Probabilidade[i] = vezes/5000\n",
        "\n",
        "esperança_empirica = 0\n",
        "\n",
        "para i de 0 até 5000, faça:\n",
        "    esperança_empirica <- esperança_empirica + V_A_X[i])/5000\n",
        "\n",
        "```\n",
        "\n",
        "\n",
        "\n"
      ]
    },
    {
      "cell_type": "markdown",
      "metadata": {
        "id": "pSw3BDG0saCS"
      },
      "source": [
        "##Código"
      ]
    },
    {
      "cell_type": "markdown",
      "metadata": {
        "id": "ZYz5ZHNk6XIk"
      },
      "source": [
        "### Calculando o X para cada experimento"
      ]
    },
    {
      "cell_type": "code",
      "metadata": {
        "id": "vqAK9UOHqx3i"
      },
      "source": [
        "V_A_X = []\n",
        "random.seed(44) #Comentar ou retirar esse comando para que a semente seja escolhida aleatoriamente\n",
        "\n",
        "\n",
        "for i in range (5000):\n",
        "\n",
        "  NUMEROS_SAIDOS = []\n",
        "  x = 0\n",
        "\n",
        "  while (1):\n",
        "\n",
        "      num = random.uniform(0,1)\n",
        "      x+=1\n",
        "\n",
        "      m = 0\n",
        "      for m in range(10):\n",
        "        if ( m/10 < num <= (m+1)/10):\n",
        "          num = m + 2\n",
        "          break;\n",
        "\n",
        "      if num in NUMEROS_SAIDOS: \n",
        "          V_A_X.append(x)\n",
        "          break;\n",
        "\n",
        "      NUMEROS_SAIDOS.append(num)\n",
        "\n",
        "esp_empirica = 0\n",
        "\n",
        "for i in range (5000):\n",
        "    esp_empirica += V_A_X[i]/5000"
      ],
      "execution_count": null,
      "outputs": []
    },
    {
      "cell_type": "markdown",
      "metadata": {
        "id": "1UqMt25j6qSd"
      },
      "source": [
        "### Calculando as probabilidades e preenchendo a tabela com os Dados"
      ]
    },
    {
      "cell_type": "code",
      "metadata": {
        "id": "KOXBMPV7xV1M"
      },
      "source": [
        "PROBABILIDADES = []\n",
        "x = []\n",
        "for i in range(2,12):\n",
        "  x.append(str(i))\n",
        "dados = { 'x': x}\n",
        "dados[\"Vezes de ocorrência\"] = ''\n",
        "dados[\"P(X = x) Empírica\"] = ''\n",
        "tabela = pd.DataFrame(dados)\n",
        "\n",
        "for i in range (2,12):\n",
        "    vezes = V_A_X.count(i)\n",
        "    tabela.loc[i-2,\"Vezes de ocorrência\"] = vezes\n",
        "    PROBABILIDADES.append(vezes/5000)\n",
        "    tabela.loc[i-2,\"P(X = x) Empírica\"] = vezes/5000\n"
      ],
      "execution_count": null,
      "outputs": []
    },
    {
      "cell_type": "markdown",
      "metadata": {
        "id": "GJSbELi0oFTS"
      },
      "source": [
        "## Resultados obtidos pelas Simulações"
      ]
    },
    {
      "cell_type": "markdown",
      "metadata": {
        "id": "iyiVym6jpABQ"
      },
      "source": [
        "Abaixo encontra-se os resultados obtidos pela realização das $5000$ simulações feitas no código acima. Onde $E(X) = 4.660399999999831$ é a esperança da variável aleatória $X$ obtida no passo 5 e a tabela apresenta os dados do passo 4, em que \"Vezes de ocorrência\" apresenta o número de vezes que o índice ocorre no vetor X e \"P(X = x) Empírica\" é a probabilidade  calculada de forma empírica de X ser igual ao índice, obtida pelo cálculo \"Vezes de ocorrência\"/5000. Por exemplo, interpretando a primeira linha da tabela, $x=2$ ocorreu $518$ vezes no vetor X e assim, a probabilidade de $P(X=2) = \\frac{518}{5000} = 0.1036$\n",
        "\n",
        "Dessa forma, as probabilidades e esperança de X obtidas de forma empírica pelas $5000$ simulações foram:\n",
        "\n",
        "$P(X=2) = 0.1092$\n",
        "\n",
        "$P(X=3) = 0.1756$\n",
        "\n",
        "$P(X=4) = 0.2098$\n",
        "\n",
        "$P(X=5) = 0.2006$\n",
        "\n",
        "$P(X=6) = 0.1472$\n",
        "\n",
        "$P(X=7) = 0.0942$\n",
        "\n",
        "$P(X=8) = 0.0442$\n",
        "\n",
        "$P(X=9) = 0.0158$\n",
        "\n",
        "$P(X=10) = 0.0028$\n",
        "\n",
        "$P(X=11) = 0.0006$\n",
        "\n",
        "$E(X) = 4.660399999999831$\n"
      ]
    },
    {
      "cell_type": "code",
      "metadata": {
        "id": "M0y64QwRn2k2",
        "colab": {
          "base_uri": "https://localhost:8080/",
          "height": 407
        },
        "outputId": "cd1f5087-edf3-46b2-ba63-37526b1b5114"
      },
      "source": [
        "print(\"E(X) = \" + str(esp_empirica))\n",
        "tabela.set_index(\"x\")"
      ],
      "execution_count": null,
      "outputs": [
        {
          "output_type": "stream",
          "text": [
            "E(X) = 4.660399999999831\n"
          ],
          "name": "stdout"
        },
        {
          "output_type": "execute_result",
          "data": {
            "text/html": [
              "<div>\n",
              "<style scoped>\n",
              "    .dataframe tbody tr th:only-of-type {\n",
              "        vertical-align: middle;\n",
              "    }\n",
              "\n",
              "    .dataframe tbody tr th {\n",
              "        vertical-align: top;\n",
              "    }\n",
              "\n",
              "    .dataframe thead th {\n",
              "        text-align: right;\n",
              "    }\n",
              "</style>\n",
              "<table border=\"1\" class=\"dataframe\">\n",
              "  <thead>\n",
              "    <tr style=\"text-align: right;\">\n",
              "      <th></th>\n",
              "      <th>Vezes de ocorrência</th>\n",
              "      <th>P(X = x) Empírica</th>\n",
              "    </tr>\n",
              "    <tr>\n",
              "      <th>x</th>\n",
              "      <th></th>\n",
              "      <th></th>\n",
              "    </tr>\n",
              "  </thead>\n",
              "  <tbody>\n",
              "    <tr>\n",
              "      <th>2</th>\n",
              "      <td>546</td>\n",
              "      <td>0.1092</td>\n",
              "    </tr>\n",
              "    <tr>\n",
              "      <th>3</th>\n",
              "      <td>878</td>\n",
              "      <td>0.1756</td>\n",
              "    </tr>\n",
              "    <tr>\n",
              "      <th>4</th>\n",
              "      <td>1049</td>\n",
              "      <td>0.2098</td>\n",
              "    </tr>\n",
              "    <tr>\n",
              "      <th>5</th>\n",
              "      <td>1003</td>\n",
              "      <td>0.2006</td>\n",
              "    </tr>\n",
              "    <tr>\n",
              "      <th>6</th>\n",
              "      <td>736</td>\n",
              "      <td>0.1472</td>\n",
              "    </tr>\n",
              "    <tr>\n",
              "      <th>7</th>\n",
              "      <td>471</td>\n",
              "      <td>0.0942</td>\n",
              "    </tr>\n",
              "    <tr>\n",
              "      <th>8</th>\n",
              "      <td>221</td>\n",
              "      <td>0.0442</td>\n",
              "    </tr>\n",
              "    <tr>\n",
              "      <th>9</th>\n",
              "      <td>79</td>\n",
              "      <td>0.0158</td>\n",
              "    </tr>\n",
              "    <tr>\n",
              "      <th>10</th>\n",
              "      <td>14</td>\n",
              "      <td>0.0028</td>\n",
              "    </tr>\n",
              "    <tr>\n",
              "      <th>11</th>\n",
              "      <td>3</td>\n",
              "      <td>0.0006</td>\n",
              "    </tr>\n",
              "  </tbody>\n",
              "</table>\n",
              "</div>"
            ],
            "text/plain": [
              "   Vezes de ocorrência P(X = x) Empírica\n",
              "x                                       \n",
              "2                  546            0.1092\n",
              "3                  878            0.1756\n",
              "4                 1049            0.2098\n",
              "5                 1003            0.2006\n",
              "6                  736            0.1472\n",
              "7                  471            0.0942\n",
              "8                  221            0.0442\n",
              "9                   79            0.0158\n",
              "10                  14            0.0028\n",
              "11                   3            0.0006"
            ]
          },
          "metadata": {
            "tags": []
          },
          "execution_count": 113
        }
      ]
    },
    {
      "cell_type": "markdown",
      "metadata": {
        "id": "b6hyhypKDLde"
      },
      "source": [
        "# c)\n",
        "\n",
        "Caculando a função de probabilidade $P(X = x_1)$ obtida no item a) para todo $x_i \\in  \\{2,3,4,5,6,7,8,9,10,11\\}$, obtém-se:\n",
        "\n",
        "$P(X = 2) = \\frac{A_{9,0}}{(AR)_{10,0}} * \\frac{2-1}{10} = \\frac{1}{10} = 0,1$ \n",
        "\n",
        "$P(X = 3) = \\frac{A_{9,1}}{(AR)_{10,1}} * \\frac{3-1}{10} = \\frac{9}{50} = 0,18$ \n",
        "\n",
        "$P(X = 4) = \\frac{A_{9,2}}{(AR)_{10,2}} * \\frac{4-1}{10} = \\frac{27}{125} = 0,216$ \n",
        "\n",
        "$P(X = 5) = \\frac{A_{9,3}}{(AR)_{10,3}} * \\frac{5-1}{10} = \\frac{126}{625} = 0,2016$ \n",
        "\n",
        "$P(X = 6) = \\frac{A_{9,4}}{(AR)_{10,4}} * \\frac{6-1}{10} = \\frac{189}{1250} = 0,1512$ \n",
        "\n",
        "$P(X = 7) = \\frac{A_{9,5}}{(AR)_{10,5}} * \\frac{7-1}{10} = \\frac{567}{6250} = 0,09072$ \n",
        "\n",
        "$P(X = 8) = \\frac{A_{9,6}}{(AR)_{10,6}} * \\frac{8-1}{10} = \\frac{1323}{31250} = 0,042336$ \n",
        "\n",
        "$P(X = 9) = \\frac{A_{9,7}}{(AR)_{10,7}} * \\frac{9-1}{10} = \\frac{1134}{78125} = 0,014515200$ \n",
        "\n",
        "$P(X = 10) = \\frac{A_{9,8}}{(AR)_{10,8}} * \\frac{10-1}{10} = \\frac{5103}{1562500} = 0,003265920$ \n",
        "\n",
        "$P(X = 11) = \\frac{A_{9,9}}{(AR)_{10,9}} * \\frac{11-1}{10} = \\frac{567}{1562500} = 0,000362880$ \n",
        "\n",
        "A esperança de teórica de $X$ se dará pela fórmula:\n",
        "\n",
        "$ E(X) = \\sum_{-\\infty}^\\infty P (X=x_i) * x_i$\n",
        "\n",
        "Logo,\n",
        "\n",
        "$E(X) = \\sum_{x=2}^{11} \\frac{A_{9,x-2}}{(AR)_{10,x-2}} * \\frac{x-1}{10} * x $\n",
        "\n",
        "$E(X) = 4.660215680000001$\n",
        "\n",
        "Pelo gráfico e tabela apresentados abaixo, cujos códigos se encontram mais abaixo, é possível verificar que os resultados das funções de probabilidade empiríca e teórica foram bem próximos com precisão de duas casas decimais. Caso seja desejado o acesso, são gerados arquivos csv das tabelas nomeados de \"tabela_probabilidades_questao1.csv\" e \"tabela_esperanças_questao1.csv\".\n",
        "\n",
        "No gráfico, a função obtida de forma empírica se dá pelas linhas e pontos azuis, enquanto a teórica se dá pelas verdes. Observa-se que são tão próximas que em certos momentos não é possível nem diferenciar as linhas. Já na tabela de esperanças, vê-se que a precisão também foi de duas casas decimais. No entanto, é importante ressaltar que os resultados foram obtidos usando $44$ como semente para a geração dos números aleatórios, se essa parte for retirada do códido, a semente será aleatória a cada vez que o código for executado, assim há pequenas alterações nos resultados a cada execução do código, já que os números pseudo-aleatórios serão diferentes, contudo, as diferenças entre os resultados empírico e teórico ainda serão pequenas, mostrando a equivalência entre os dois métodos de obtenção, dada uma tolerância. \n"
      ]
    },
    {
      "cell_type": "markdown",
      "metadata": {
        "id": "xzC-713aG_h8"
      },
      "source": [
        "## Código tabelas e gráficos"
      ]
    },
    {
      "cell_type": "code",
      "metadata": {
        "id": "u-TNZIz4Fn3F"
      },
      "source": [
        "for i in range (2,12):\n",
        "  prob = (factorial(9) * (i-1))/(factorial(9-(i-2)) * (10 **(i-1)))\n",
        "  tabela.loc[i-2,\"P(X = x) Teórica\"] = prob\n",
        "\n",
        "esp_teorica = 0\n",
        "\n",
        "for i in range (2,12):\n",
        "    esp_teorica += tabela.iloc[i-2,3] * (i)\n",
        "  \n",
        "tabela['Diferença prob Empirica e Teórica'] = tabela.apply(lambda x: abs(x[\"P(X = x) Teórica\"]-x[\"P(X = x) Empírica\"]),axis=1)\n",
        "tabela.set_index(\"x\") \n",
        "tabela.to_csv('tabela_probabilidades_questao1.csv', index=False)  \n",
        "\n",
        "\n",
        " \n"
      ],
      "execution_count": null,
      "outputs": []
    },
    {
      "cell_type": "code",
      "metadata": {
        "id": "zym4GFauW4rO"
      },
      "source": [
        "V_a = [\"E(X) Empírica\", \"E(X) Teórica\", \"Diferença entre Esperança Empirica e Teórica\"]\n",
        "dados = {'V.A.': V_a}\n",
        "dados[\"X\"] = 'NaN'\n",
        "tabela_esperança = pd.DataFrame(dados)\n",
        "\n",
        "tabela_esperança.loc[0,\"X\"] = esp_empirica\n",
        "tabela_esperança.loc[1,\"X\"] = esp_teorica\n",
        "tabela_esperança.loc[2,\"X\"] = abs(esp_empirica - esp_teorica)\n",
        "tabela_esperança.set_index('V.A.') \n",
        "tabela_esperança.to_csv('tabela_esperanças_questao1.csv', index=False) "
      ],
      "execution_count": null,
      "outputs": []
    },
    {
      "cell_type": "code",
      "metadata": {
        "id": "STowP8xespdw"
      },
      "source": [
        "x1 = [2,3,4,5,6,7,8,9,10,11]\n",
        "x2 = [3,4,5,6,7,8,9,10,11]\n",
        "x3 = [2,3,3,4,4,5,5,6,6,7,7,8,8,9,9,10,10,11,11]\n",
        "y1_e = []\n",
        "y1_t = []\n",
        "y3_t = []\n",
        "y3_e = []\n",
        "\n",
        "for i in range(10):\n",
        "    y1_e.append(tabela.iloc[i,2])\n",
        "    y1_t.append(tabela.iloc[i,3])\n",
        "\n",
        "for i in range(10):\n",
        "  y3_t.append(y1_t[i])\n",
        "  y3_t.append(y1_t[i])\n",
        "  y3_e.append(y1_e[i])\n",
        "  y3_e.append(y1_e[i])\n",
        "\n",
        "y3_t = y3_t[0:19]\n",
        "y3_e = y3_e[0:19]\n",
        "y2_e = y1_e[0:9]\n",
        "y2_t = y1_t[0:9]\n",
        "\n",
        "def plot_grafico_px():\n",
        "  fig = plt.figure(figsize=[10,10])\n",
        "  plt.ylim(0,0.25)\n",
        "  plt.plot(x1,y1_e, marker='o', linestyle='none', fillstyle = 'full', color = \"blue\")\n",
        "  plt.plot(x2,y2_e, marker='o', linestyle='none', fillstyle = 'none', color = \"blue\")\n",
        "  plt.plot(x3,y3_e, color = \"blue\")\n",
        "\n",
        "  line1, = plt.plot([1, 1, 1], marker='o', label='p(x) empírica',color = \"blue\")\n",
        "  line2, = plt.plot([1, 1, 1], marker='o', label='p(x) teórica',color = \"green\")\n",
        "\n",
        "  plt.legend(handler_map={line1: HandlerLine2D(numpoints=1)})\n",
        "\n",
        "  plt.ylim(0,0.25)\n",
        "  plt.plot(x1,y1_t, marker='o', linestyle='none', fillstyle = 'full', color = \"green\")\n",
        "  plt.plot(x2,y2_t, marker='o', linestyle='none', fillstyle = 'none', color = \"green\")\n",
        "  plt.plot(x3,y3_t, color = \"green\")\n",
        "  plt.ylabel('p(x)', size = 20)\n",
        "  plt.xlabel('x',size = 20)"
      ],
      "execution_count": null,
      "outputs": []
    },
    {
      "cell_type": "code",
      "metadata": {
        "id": "z0djgudPXucJ",
        "colab": {
          "base_uri": "https://localhost:8080/"
        },
        "outputId": "61cd654f-7df1-400d-9132-5bd953ab291f"
      },
      "source": [
        "x_e_t = [0,2,2,3,3,4,4,5,5,6,6,7,7,8,8,9,9,10,10,11,11,1000000000]\n",
        "y_t = [0,0]\n",
        "y_e = [0,0]\n",
        "sum_t = sum_e = 0\n",
        "\n",
        "for i in range(10):\n",
        "  sum_t += tabela.iloc[i,3]\n",
        "  print(sum_t)\n",
        "  print(tabela.iloc[i,3])\n",
        "  sum_e += tabela.iloc[i,2]\n",
        "  y_t.append(sum_t)\n",
        "  y_t.append(sum_t)\n",
        "  y_e.append(sum_e)\n",
        "  y_e.append(sum_e)\n",
        "\n",
        "y_t = y_t[0:21]\n",
        "y_t.append(1)\n",
        "y_e = y_e[0:21]\n",
        "y_e.append(1)\n",
        "\n",
        "def plot_grafico_fx():\n",
        "  fig = plt.figure(figsize=[10,10])\n",
        "  plt.ylim(0,1.1)\n",
        "  plt.xlim(0,12)\n",
        "  plt.plot(x_e_t,y_e, color = \"blue\")\n",
        "\n",
        "  plt.ylim(0,1.1)\n",
        "  plt.xlim(0,12)\n",
        "  plt.plot(x_e_t,y_t, color = \"green\")\n",
        "\n",
        " \n",
        "  plt.ylabel('F(x)', size = 20)\n",
        "  plt.xlabel('x',size = 20)\n",
        "  line1, = plt.plot([0],label='F(x) empírica',color = \"blue\")\n",
        "  line2, = plt.plot([0],label='F(x) teórica',color = \"green\")\n",
        "  plt.legend(handler_map={line1: HandlerLine2D(numpoints=1)})\n"
      ],
      "execution_count": null,
      "outputs": [
        {
          "output_type": "stream",
          "text": [
            "0.1\n",
            "0.1\n",
            "0.28\n",
            "0.18\n",
            "0.496\n",
            "0.216\n",
            "0.6976\n",
            "0.2016\n",
            "0.8488\n",
            "0.1512\n",
            "0.93952\n",
            "0.09072\n",
            "0.9818560000000001\n",
            "0.042336\n",
            "0.9963712\n",
            "0.0145152\n",
            "0.99963712\n",
            "0.00326592\n",
            "1.0\n",
            "0.00036288\n"
          ],
          "name": "stdout"
        }
      ]
    },
    {
      "cell_type": "markdown",
      "metadata": {
        "id": "2MTYlkmFmh27"
      },
      "source": [
        "## Tabelas e Gráfico"
      ]
    },
    {
      "cell_type": "code",
      "metadata": {
        "id": "A-RUdsCemVRc",
        "colab": {
          "base_uri": "https://localhost:8080/",
          "height": 390
        },
        "outputId": "02ef5a9d-9454-4354-b9fa-38bbc83c2e2a"
      },
      "source": [
        "tabela.set_index(\"x\") "
      ],
      "execution_count": null,
      "outputs": [
        {
          "output_type": "execute_result",
          "data": {
            "text/html": [
              "<div>\n",
              "<style scoped>\n",
              "    .dataframe tbody tr th:only-of-type {\n",
              "        vertical-align: middle;\n",
              "    }\n",
              "\n",
              "    .dataframe tbody tr th {\n",
              "        vertical-align: top;\n",
              "    }\n",
              "\n",
              "    .dataframe thead th {\n",
              "        text-align: right;\n",
              "    }\n",
              "</style>\n",
              "<table border=\"1\" class=\"dataframe\">\n",
              "  <thead>\n",
              "    <tr style=\"text-align: right;\">\n",
              "      <th></th>\n",
              "      <th>Vezes de ocorrência</th>\n",
              "      <th>P(X = x) Empírica</th>\n",
              "      <th>P(X = x) Teórica</th>\n",
              "      <th>Diferença prob Empirica e Teórica</th>\n",
              "    </tr>\n",
              "    <tr>\n",
              "      <th>x</th>\n",
              "      <th></th>\n",
              "      <th></th>\n",
              "      <th></th>\n",
              "      <th></th>\n",
              "    </tr>\n",
              "  </thead>\n",
              "  <tbody>\n",
              "    <tr>\n",
              "      <th>2</th>\n",
              "      <td>546</td>\n",
              "      <td>0.1092</td>\n",
              "      <td>0.100000</td>\n",
              "      <td>0.009200</td>\n",
              "    </tr>\n",
              "    <tr>\n",
              "      <th>3</th>\n",
              "      <td>878</td>\n",
              "      <td>0.1756</td>\n",
              "      <td>0.180000</td>\n",
              "      <td>0.004400</td>\n",
              "    </tr>\n",
              "    <tr>\n",
              "      <th>4</th>\n",
              "      <td>1049</td>\n",
              "      <td>0.2098</td>\n",
              "      <td>0.216000</td>\n",
              "      <td>0.006200</td>\n",
              "    </tr>\n",
              "    <tr>\n",
              "      <th>5</th>\n",
              "      <td>1003</td>\n",
              "      <td>0.2006</td>\n",
              "      <td>0.201600</td>\n",
              "      <td>0.001000</td>\n",
              "    </tr>\n",
              "    <tr>\n",
              "      <th>6</th>\n",
              "      <td>736</td>\n",
              "      <td>0.1472</td>\n",
              "      <td>0.151200</td>\n",
              "      <td>0.004000</td>\n",
              "    </tr>\n",
              "    <tr>\n",
              "      <th>7</th>\n",
              "      <td>471</td>\n",
              "      <td>0.0942</td>\n",
              "      <td>0.090720</td>\n",
              "      <td>0.003480</td>\n",
              "    </tr>\n",
              "    <tr>\n",
              "      <th>8</th>\n",
              "      <td>221</td>\n",
              "      <td>0.0442</td>\n",
              "      <td>0.042336</td>\n",
              "      <td>0.001864</td>\n",
              "    </tr>\n",
              "    <tr>\n",
              "      <th>9</th>\n",
              "      <td>79</td>\n",
              "      <td>0.0158</td>\n",
              "      <td>0.014515</td>\n",
              "      <td>0.001285</td>\n",
              "    </tr>\n",
              "    <tr>\n",
              "      <th>10</th>\n",
              "      <td>14</td>\n",
              "      <td>0.0028</td>\n",
              "      <td>0.003266</td>\n",
              "      <td>0.000466</td>\n",
              "    </tr>\n",
              "    <tr>\n",
              "      <th>11</th>\n",
              "      <td>3</td>\n",
              "      <td>0.0006</td>\n",
              "      <td>0.000363</td>\n",
              "      <td>0.000237</td>\n",
              "    </tr>\n",
              "  </tbody>\n",
              "</table>\n",
              "</div>"
            ],
            "text/plain": [
              "   Vezes de ocorrência  ... Diferença prob Empirica e Teórica\n",
              "x                       ...                                  \n",
              "2                  546  ...                          0.009200\n",
              "3                  878  ...                          0.004400\n",
              "4                 1049  ...                          0.006200\n",
              "5                 1003  ...                          0.001000\n",
              "6                  736  ...                          0.004000\n",
              "7                  471  ...                          0.003480\n",
              "8                  221  ...                          0.001864\n",
              "9                   79  ...                          0.001285\n",
              "10                  14  ...                          0.000466\n",
              "11                   3  ...                          0.000237\n",
              "\n",
              "[10 rows x 4 columns]"
            ]
          },
          "metadata": {
            "tags": []
          },
          "execution_count": 118
        }
      ]
    },
    {
      "cell_type": "code",
      "metadata": {
        "id": "W6ob6gABmfL1",
        "colab": {
          "base_uri": "https://localhost:8080/",
          "height": 173
        },
        "outputId": "81ccc206-84db-4416-bc88-d6cb4c496c2e"
      },
      "source": [
        "tabela_esperança.set_index('V.A.') "
      ],
      "execution_count": null,
      "outputs": [
        {
          "output_type": "execute_result",
          "data": {
            "text/html": [
              "<div>\n",
              "<style scoped>\n",
              "    .dataframe tbody tr th:only-of-type {\n",
              "        vertical-align: middle;\n",
              "    }\n",
              "\n",
              "    .dataframe tbody tr th {\n",
              "        vertical-align: top;\n",
              "    }\n",
              "\n",
              "    .dataframe thead th {\n",
              "        text-align: right;\n",
              "    }\n",
              "</style>\n",
              "<table border=\"1\" class=\"dataframe\">\n",
              "  <thead>\n",
              "    <tr style=\"text-align: right;\">\n",
              "      <th></th>\n",
              "      <th>X</th>\n",
              "    </tr>\n",
              "    <tr>\n",
              "      <th>V.A.</th>\n",
              "      <th></th>\n",
              "    </tr>\n",
              "  </thead>\n",
              "  <tbody>\n",
              "    <tr>\n",
              "      <th>E(X) Empírica</th>\n",
              "      <td>4.6604</td>\n",
              "    </tr>\n",
              "    <tr>\n",
              "      <th>E(X) Teórica</th>\n",
              "      <td>4.66022</td>\n",
              "    </tr>\n",
              "    <tr>\n",
              "      <th>Diferença entre Esperança Empirica e Teórica</th>\n",
              "      <td>0.00018432</td>\n",
              "    </tr>\n",
              "  </tbody>\n",
              "</table>\n",
              "</div>"
            ],
            "text/plain": [
              "                                                       X\n",
              "V.A.                                                    \n",
              "E(X) Empírica                                     4.6604\n",
              "E(X) Teórica                                     4.66022\n",
              "Diferença entre Esperança Empirica e Teórica  0.00018432"
            ]
          },
          "metadata": {
            "tags": []
          },
          "execution_count": 119
        }
      ]
    },
    {
      "cell_type": "code",
      "metadata": {
        "id": "O2cGlt13jawO",
        "colab": {
          "base_uri": "https://localhost:8080/",
          "height": 1000
        },
        "outputId": "b2488628-7020-45c0-93ad-24292a412c03"
      },
      "source": [
        "plot_grafico_px()\n",
        "plot_grafico_fx()\n"
      ],
      "execution_count": null,
      "outputs": [
        {
          "output_type": "display_data",
          "data": {
            "image/png": "[encoded data removed]",
            "text/plain": [
              "<Figure size 720x720 with 1 Axes>"
            ]
          },
          "metadata": {
            "tags": [],
            "needs_background": "light"
          }
        },
        {
          "output_type": "display_data",
          "data": {
            "image/png": "[encoded data removed]",
            "text/plain": [
              "<Figure size 720x720 with 1 Axes>"
            ]
          },
          "metadata": {
            "tags": [],
            "needs_background": "light"
          }
        }
      ]
    },
    {
      "cell_type": "markdown",
      "metadata": {
        "id": "P0u69ygVviz_"
      },
      "source": [
        "# **QUESTÃO 2**"
      ]
    },
    {
      "cell_type": "markdown",
      "metadata": {
        "id": "8sXdlHk1g9K5"
      },
      "source": [
        "## a)\n",
        "\n",
        "Pelo Método da Transformada da Inversa, dado uma função de distribuição $ F_X(x) $ para todo $ x $, gera-se uma variável aleatória $ U $ uniformemente distribuída em $ [0,1] $, isto é, $ U\\sim U[0,1] $ e então calcula-se $ X = F_X^{-1}(U) $ para obter uma variável aleatória $ X $ com a propiedade $ F_X(x) = \\mathbb{P}(X\\leq x)$.\n",
        "\n",
        "Como a questão deseja que se-simule uma variável aleatória $X$ com densidade $f_X(x) = \\frac{10}{x^2}$ se $x > 10$, e $f_X(x) = 0$ se $x ≤ 10$, primeiro deve-se obter a Função de distribuição de $X$ para que o método possa ser aplicado.\n",
        "\n",
        "Assim:\n",
        "\n",
        "$F_X(x) = \\int_{10}^x \\frac{10}{x^2}$ = $-\\frac{10}{x}+1$\n",
        "\n",
        "Deve-se obter também a inversa da função de distribuição, então:\n",
        "\n",
        "$F_X^{-1}(x) = -\\frac{10}{x-1}$\n",
        "\n",
        "Agora, tendo-se o conhecimento da inversa da função de distribuição de $X$, o algoritmo utilizado no código abaixo para simular a variável $X$ consiste em:\n",
        "\n",
        "1. Gera-se um vetor com $n$ números aleatórios $[U_1,U_2,U_3,...,U_n]$ , onde $n$ será o número de simulações.\n",
        "\n",
        "2. Calcula-se $F_X^{-1}(U_i) = -\\frac{10}{U_i-1}$ para cada número contido no vetor de números aleatórios e adiciona o resultado ao vetor da variável aleatória $X$, dessa forma, $X_i = -\\frac{10}{U_i-1}$ \n",
        "\n",
        "\n",
        "##Pseudo-código\n",
        "\n",
        "```\n",
        "X <- Lista vazia\n",
        "U <- lista com n números aleatórios uniformemente distribuídos\n",
        "\n",
        "para i de 0 a n, faça:\n",
        "  X[i] <- -10/(U[i]-1)\n",
        "\n",
        "```\n",
        "\n",
        "\n",
        "\n",
        "\n",
        "\n",
        "\n"
      ]
    },
    {
      "cell_type": "markdown",
      "metadata": {
        "id": "Yep-IQ7061yi"
      },
      "source": [
        "## b)\n",
        "\n",
        "O código abaixo utiliza o algoritmo acima, usando $n=10000$ já que a questão pede que sejam feitas $10000$ simulações. Para que a média seja calculada nos pontos desejados, é necessário alterar o algoritmo, ficando\n",
        "\n",
        "1. Gera-se um número aleatório $U$ entre 0 e 1.\n",
        "\n",
        "2. Calcula-se $F_X^{-1}(U) = -\\frac{10}{U-1}$ adiciona o resultado ao vetor da variável aleatóia $X$.\n",
        "\n",
        "3. Se for a $10ª$, $50ª$, $100ª$, $500ª$, $1000ª$ ou $10000ª$ simulação, calcula-se a média da variável $X$ com esse número de simulações, somando-se todos os elementos da lista X e dividindo pelo número de elementos contido nela que será igual ao número de simulações já realizadas. Volta-se para o passo 1.\n",
        "\n",
        "4. Se já foram feitas $10000$ simulações, para. Se não, volta-se para o passo 1.\n",
        "\n",
        "\n",
        "```\n",
        "X <- Lista vazia\n",
        "U <- lista com n números aleatórios uniformemente distribuídos\n",
        "Esp <- lista vazia\n",
        " \n",
        "para i de 0 a n, faça:\n",
        "  X[i] <- -10/(U[i]-1)\n",
        "  Se i igual a 10 ou 50 ou 100 ou 500 ou 1000 ou 10000, faça:\n",
        "    Esp <- Soma de todos os elementos de X/i\n",
        "\n",
        "```\n",
        "\n",
        "Dessa forma nas simulações $10$, $50$, $100$, $500$, $1000$ e $10000$, calcula-se a média da variável $X$ obtida até o momento e coloca-se o resultado na lista que guarda as médias calculadas. Por exemplo, na $10ª$ simulação, soma-se os $10$ elementos do vetor X obtidos até o momento e divide-se o resultado por $10$, obtendo assim a média de X com $10$ simulações.\n",
        "\n",
        "Assim, após a execução do código, obtém se os valores da média da variável $X$ com $10$ simulações, com $50$, com $100$, com $500$, com $1000$ e com $10000$. "
      ]
    },
    {
      "cell_type": "markdown",
      "metadata": {
        "id": "uUqN_lVQ9mJ5"
      },
      "source": [
        "## Código"
      ]
    },
    {
      "cell_type": "code",
      "metadata": {
        "id": "m5N7jjiOvnmS"
      },
      "source": [
        "ESP = []\n",
        "X = []\n",
        "Curva = []\n",
        "random.seed(8) #Comentar ou retirar esse comando para que a semente seja escolhida aleatoriamente\n",
        "U_q2 = random.uniform(size=10000)\n",
        "\n",
        "for i in range (10000):\n",
        "  Curva.append([])\n",
        "\n",
        "for i in range (1,10001):\n",
        "    X.append(-10/(U_q2[i-1]-1))    \n",
        "    Curva[i-1].append(-10/(U_q2[i-1]-1))\n",
        "    Curva[i-1].append(U_q2[i-1])\n",
        "    \n",
        "    if (i == 10 or i == 50 or i == 100 or i == 500 or i == 1000 or i == 10000):\n",
        "        ESP.append(sum(X)/i)"
      ],
      "execution_count": null,
      "outputs": []
    },
    {
      "cell_type": "code",
      "metadata": {
        "id": "ZBwQhzZEn1k5"
      },
      "source": [
        "x = []\n",
        "F_x = []\n",
        "\n",
        "Curva.sort(key=lambda x: x[1])\n",
        "for i in range (10000):\n",
        "  x.append(Curva[i][0])\n",
        "  F_x.append(Curva[i][1])\n",
        "\n",
        "def grafico_quest3(lim_x):\n",
        "  fig = plt.figure(figsize=[10,10])\n",
        "  plt.ylim(0,1.3)\n",
        "  plt.xlim(0,lim_x)\n",
        "  plt.plot(x,F_x, marker='.', fillstyle = 'full', linestyle = \"solid\", color = \"green\", markersize = 1)\n",
        "  plt.ylabel('F(x)', size = 20)\n",
        "  plt.xlabel('x',size = 20)"
      ],
      "execution_count": null,
      "outputs": []
    },
    {
      "cell_type": "markdown",
      "metadata": {
        "id": "hk0nzFEIC0Is"
      },
      "source": [
        "## Resultados e Gráfico"
      ]
    },
    {
      "cell_type": "code",
      "metadata": {
        "id": "gdMO1OSvColU",
        "colab": {
          "base_uri": "https://localhost:8080/"
        },
        "outputId": "58fc21ea-2acc-4c26-dd5c-19905336c0f6"
      },
      "source": [
        "ESP"
      ],
      "execution_count": null,
      "outputs": [
        {
          "output_type": "execute_result",
          "data": {
            "text/plain": [
              "[59.22033391420289,\n",
              " 81.43387578855499,\n",
              " 57.77335975112115,\n",
              " 61.37273427476721,\n",
              " 145.06222159511265,\n",
              " 471.43385718162705]"
            ]
          },
          "metadata": {
            "tags": []
          },
          "execution_count": 123
        }
      ]
    },
    {
      "cell_type": "code",
      "metadata": {
        "id": "H1s7WNlNI-Bc",
        "colab": {
          "base_uri": "https://localhost:8080/",
          "height": 1000
        },
        "outputId": "b8d3324c-7da3-4497-a577-b5f103373c05"
      },
      "source": [
        "grafico_quest3(200)\n",
        "grafico_quest3(1000)"
      ],
      "execution_count": null,
      "outputs": [
        {
          "output_type": "display_data",
          "data": {
            "image/png": "[encoded data removed]",
            "text/plain": [
              "<Figure size 720x720 with 1 Axes>"
            ]
          },
          "metadata": {
            "tags": [],
            "needs_background": "light"
          }
        },
        {
          "output_type": "display_data",
          "data": {
            "image/png": "[encoded data removed]",
            "text/plain": [
              "<Figure size 720x720 with 1 Axes>"
            ]
          },
          "metadata": {
            "tags": [],
            "needs_background": "light"
          }
        }
      ]
    },
    {
      "cell_type": "markdown",
      "metadata": {
        "id": "AIjw5LrrGoGI"
      },
      "source": [
        "## Análise dos Resultados"
      ]
    },
    {
      "cell_type": "markdown",
      "metadata": {
        "id": "m66PS3BsAvvi"
      },
      "source": [
        "\n",
        "\n",
        "Os resultados obtidos pelo código se encontram abaixo, onde $E(X_{i})$ é a média de $X$ obtida com $i$ simulações.\n",
        "\n",
        "$E(X_{10}) = 59.22033391420289$\n",
        "\n",
        "$E(X_{50}) = 81.43387578855499$\n",
        "\n",
        "$E(X_{100}) = 57.77335975112115$\n",
        "\n",
        "$E(X_{500}) = 61.37273427476721$\n",
        "\n",
        "$E(X_{1000}) = 145.06222159511265$\n",
        "\n",
        "$E(X_{10000}) = 471.43385718162705$\n",
        "\n",
        "Pode-se observar que a média não converge para um número especifico, parecendo ir para o infinito a medida que $n\\to \\infty$. Isso ocorre porque a função $F_X^{-1}(U_i) = -\\frac{10}{U-1}$ não está definida para $U = 1$, isso significa que nenhum $x$ irá gerar $F(x) =1$ e quanto mais próximo o $U$ gerado for de 1, maior será o $x$ como é possível notar nos gráficos gerado com os resultados obtidos pelas simulações. Assim, as médias calculadas variam de acordo com o número de $U$ muito próximo a 1 gerado nas simulações.\n",
        "\n",
        "Esse resultado coincide com o calculo teórico, já que como a função de densidade é $f_X(x) = \\frac{10}{x^2}$ se $x > 10$, e $f_X(x) = 0$ se $x ≤ 10$, a esperança de X é dada por:\n",
        "\n",
        "$E(X) = \\int_{10}^\\infty x * \\frac{10}{x^2} = \\int_{10}^\\infty \\frac{10}{x}$ que diverge. \n",
        "\n",
        "Para análise apresentada nesse relatório, os resultados foram obtidos usando $8$ como semente para a geração dos números aleatórios, se essa parte for retirada do códido, a semente será aleatória a cada vez que o código for executado, assim há pequenas alterações nos resultados a cada execução do código, já que os números pseudo-aleatórios serão diferentes, contudo, em toda a execução do código, o resultado ainda será o mesmo com a média não convergindo.\n"
      ]
    },
    {
      "cell_type": "markdown",
      "metadata": {
        "id": "u6km1m_JW6DA"
      },
      "source": [
        "# **QUESTÃO 3**"
      ]
    },
    {
      "cell_type": "markdown",
      "metadata": {
        "id": "JpvDEolCJPvf"
      },
      "source": [
        "Supondo que o interesse seja calcular a integral $\\alpha =  \\int_{0}^1 \\mathrm f(x) dx $. \n",
        "\n",
        "Seja U uma variável aleatória uniformemente distribuída no intervalo (0,1), então:\n",
        "\n",
        "$\\alpha =  \\int_{0}^1 \\mathrm f(x) dx = E[f(U)]$\n",
        "\n",
        "Se $ \\{U_1,U_2, . . . ,,U_{k-1}, U_k\\} $ são variáveis aleatórias uniformes independentes, tem-se  que as variáveis aleatórias $ \\{f(U_1),f(U_2), . . . ,f(U_{k-1}), f(U_k)\\} $ são variáveis aleatórias independentes e identicamente distribuídas tendo média $\\alpha$. Dessa forma, tem-se que, com probabilidade 1,\n",
        "\n",
        "$\\sum_{i=1}^{k}\\frac{f(U_i)}{n} = E(f(U)) = \\alpha$, com $n$ -> $\\infty$ . \n",
        "\n",
        "Com isso, é possível obter o valor aproximado da integral gerando uma grande quantidade de números aleatórios $(U_I)$, os aplicando na função $f(U_i)$ e calculando a média deles.\n",
        "\n",
        "Contudo, a integral dada na questao não possui os limites iguais à 0 e 1, assim, é necessário fazer uma transformação.\n",
        "\n",
        "Como a função é simétrica, $\\int_{-\\infty}^\\infty \\mathrm{4}{x}^2{e}^{-3x^2}\\,\\mathrm{d}x$ equivale à $\\int_{-\\infty}^0 \\mathrm{4}{x}^2{e}^{-3x^2}\\,\\mathrm{d}x + \\int_{0}^\\infty \\mathrm{4}{x}^2{e}^{-3x^2}\\,\\mathrm{d}x = $ $2\\int_{0}^\\infty \\mathrm{4}{x}^2{e}^{-3x^2}\\,\\mathrm{d}x$\n",
        "\n",
        "Então o objetivo passa a ser obter o valor aproximado da integral $\\int_{0}^\\infty \\mathrm{4}{x}^2{e}^{-3x^2}\\,\\mathrm{d}x$.\n",
        "\n",
        "Porém, o limite superior ainda não é igual a 0, para isso faz-se a transformação $ y = \\frac{1}{x+1}, dy = \\frac{dx}{y²}$, Com isso, será calculado $ 2\\int_{0}^1 \\mathrm\\ 4(\\frac{1}{y}-1)^2e^{-3(\\frac{1}{y}-1)^2}*\\frac{1}{y^2}\\mathrm{d}y$\n",
        "\n",
        "Para isso, os seguintes passos são seguidos no pseudo código e código abaixo:\n",
        "\n",
        "1. Gera-se um número pseudo-aleatório U\n",
        "\n",
        "2. Calcula-se a função $\\mathrm\\ 4(\\frac{1}{U}-1)^2e^{-3(\\frac{1}{U}-1)^2}*\\frac{1}{U^2}$\n",
        "\n",
        "3. Coloca-se o valor calculado numa lista e retorna-se para o passo 1 caso ele ainda não tenha sido realizado $5000$ vezes.\n",
        "\n",
        "4. Calcula-se a média dos valores obtidos fazendo o somatório dos elementos da lista e dividindo o resultado por $5000$ (número total de elementos da lista).\n",
        "\n",
        "5. O valor aproximado da integral recebe o resultado do passo 4 multiplicado por 2, já que que nas estapas anteriores foi calculado o valor aproximado de $ \\int_{0}^1 \\mathrm\\ 4(\\frac{1}{y}-1)^2e^{-3(\\frac{1}{y}-1)^2}*\\frac{1}{y^2}\\mathrm{d}y$, mas a questão pede $\\int_{-\\infty}^\\infty \\mathrm{4}{x}^2{e}^{-3x^2}\\,\\mathrm{d}x = 2\\int_{0}^1 \\mathrm\\ 4(\\frac{1}{y}-1)^2e^{-3(\\frac{1}{y}-1)^2}*\\frac{1}{y^2}\\mathrm{d}y$\n",
        "\n"
      ]
    },
    {
      "cell_type": "markdown",
      "metadata": {
        "id": "ngS4AFIKtke9"
      },
      "source": [
        "## Pseudo-Código"
      ]
    },
    {
      "cell_type": "markdown",
      "metadata": {
        "id": "R-YHrGbJbJ4Z"
      },
      "source": [
        "```\n",
        "Y <- Lista vazia\n",
        "\n",
        "para i de 0 a 5000, faça:\n",
        "  numero_aleatorio <- random()\n",
        "  fx <- (4*(1/num_aleatorio-1)²*e^(-3*(1/num_aleatorio)²))/num_aleatorio²\n",
        "  Y <- (fx + fx)\n",
        "\n",
        "Integral <-(Soma de todos elementos de Y)/5000\n",
        "\n",
        "```"
      ]
    },
    {
      "cell_type": "markdown",
      "metadata": {
        "id": "K-bPVl50JKYZ"
      },
      "source": [
        "## Código"
      ]
    },
    {
      "cell_type": "code",
      "metadata": {
        "id": "STGL4ErKuSKc",
        "colab": {
          "base_uri": "https://localhost:8080/"
        },
        "outputId": "06061a29-2cb9-420c-e84c-65b4b9915eeb"
      },
      "source": [
        "Y = []\n",
        "arquivo3 = open('simulações_questão3.txt', 'w')\n",
        "Integral = 0\n",
        "\n",
        "random.seed(137) #Comentar ou retirar esse comando para que a semente seja escolhida aleatoriamente\n",
        "nums_aleatorios = random.uniform(size=5000)\n",
        "\n",
        "\n",
        "for i in range (5000):\n",
        "    \n",
        "    U = nums_aleatorios[i]\n",
        "    fx = (4 * ((1/U-1) ** 2) * e **(-3*(1/U-1)**2))/U**2\n",
        "    Y.append(fx + fx)   \n",
        "    arquivo3.write(\"\\n\" + str(i+1) + \"ª Simulação:\\n\" + \"Valor da Integral: \" + str(fx + fx) + \"\\n\")\n",
        "    Integral += (fx + fx)/5000\n",
        "\n",
        "\n",
        "arquivo3.close()\n",
        "print(\"Integral = \" + str(Integral) )"
      ],
      "execution_count": null,
      "outputs": [
        {
          "output_type": "stream",
          "text": [
            "Integral = 0.6821823850816696\n"
          ],
          "name": "stdout"
        }
      ]
    },
    {
      "cell_type": "markdown",
      "metadata": {
        "id": "hTxwoNyFYIOy"
      },
      "source": [
        "## Análise\n",
        "\n",
        "O valor da integral calculado no site WolframAlpha é de $\\approx 0.682218$, na execução do código realizada para esse relatório foi obtido $0.6821823850816696$. Percebe-se o que o resultado foi bem próximo, com precisão de três casas decimais. Porém, para análise apresentada nesse relatório, os resultados foram obtidos usando $137$ como semente para a geração dos números aleatórios, se essa parte for retirada do códido, a semente será aleatória a cada vez que o código for executado, assim há pequenas alterações nos resultados a cada execução do código, assim o resultado pode apresentar uma difença maior, mas sempre pequena, obtendo-se em média $\\approx 0.68 $ para o valor da intergral. \n",
        "\n",
        "Caso desejado, o código gera um arquivo que apresenta o cálculo $\\mathrm\\ 2*(4(\\frac{1}{U}-1)^2e^{-3(\\frac{1}{U}-1)^2}*\\frac{1}{U^2}) = 2*(f(U_i))$ para cada uma das $5000$ simulações, ou seja, os resultados utilizados para se obter a média e assim o valor aproximado da integral.\n",
        "\n",
        "\n"
      ]
    },
    {
      "cell_type": "markdown",
      "metadata": {
        "id": "23DUSGtXeshd"
      },
      "source": [
        "# **QUESTÃO 4**"
      ]
    },
    {
      "cell_type": "markdown",
      "metadata": {
        "id": "3NDmH9AKLvBh"
      },
      "source": [
        "A ideia apresentada no pseudo-código e código abaixo para a questão é a seguinte:\n",
        "\n",
        "1.   Primeira posição e número de movimentos recebem 0\n",
        "\n",
        "2.   Verfica-se se todos os nós {0,1,2,3,4,5} já foram visitados, se sim, realiza-se as seguintes ações:\n",
        "\n",
        "  *   Número de movimentos diminui de um. Pois, por exemplo, nos menores caminhos que são 0->1->2->3->4->5 ou 0->5->4->3->2->1, são realizados $5$ movimentos, apesar de terem sido visitados $6$ nós. Como o contador de movimentos aumenta junto com o número de nós, é necessário subtraí-lo de um antes de atribuí-lo a variável aleatória.\n",
        "\n",
        "  *   Lista com valores obtidos para a variável aleatória X recebe o número de movimentos.\n",
        "\n",
        "  *   Volta ao passo 1 se ele ainda não foi realizado 5000 vezes. Se as 5000 realizações já foram feitas, segue-se para o passo 7.\n",
        "\n",
        "3.   Número de movimentos soma um\n",
        "\n",
        "4.   Gera-se um número pseudo aleatório\n",
        "\n",
        "5.   Analisa-se a posição atual para poder determinar a próxima posição de acordo com as seguintes regras:\n",
        "\n",
        "  *  se posição atual for igual a $0$:\n",
        "      *   Se número pseudo aleatório menor que 0,5, volta para o nó anterior, indo para o 5. Então posição recebe 5\n",
        "      *   Se número pseudo aleatório maior que 0,5, segue para o próximo nó, indo para o 1. Então posição recebe 1\n",
        "\n",
        "  *  se posição for igual a $1$:\n",
        "      *   Se número pseudo aleatório menor ou igual à 0,5, volta para o nó anterior, indo para o 0. Então posição recebe 0\n",
        "      *   Se número pseudo aleatório maior que 0,5, segue para o próximo nó, indo para o 2. Então posição recebe 2\n",
        "\n",
        "  *  se posição for igual a $2$:\n",
        "      *   Se número pseudo aleatório menor ou igual à 0,5, volta para o nó anterior, indo para o 1. Então posição recebe 1\n",
        "      *   Se número pseudo aleatório maior que 0,5, segue para o próximo nó, indo para o 3. Então posição recebe 3\n",
        "\n",
        "  *  se posição for igual a $3$:\n",
        "      *   Se número pseudo aleatório menor ou igual à 0,5, volta para o nó anterior, indo para o 2. Então posição recebe 2\n",
        "      *   Se número pseudo aleatório maior que 0,5, segue para o próximo nó, indo para o 4. Então posição recebe 4\n",
        "\n",
        "  *  se posição for igual a $4$:\n",
        "      *   Se número pseudo aleatório menor ou igual à 0,5, volta para o nó anterior, indo para o 3. Então posição recebe 3\n",
        "      *   Se número pseudo aleatório maior que 0,5, segue para o próximo nó, indo para o 5. Então posição recebe 5\n",
        "\n",
        "  *  se posição for igual a $5$:\n",
        "      *   Se número pseudo aleatório menor ou igual à 0,5, volta para o nó anterior, indo para o 4. Então posição recebe 4\n",
        "      *   Se número pseudo aleatório maior que 0,5, segue para o próximo nó, indo para o 0. Então posição recebe 0\n",
        "\n",
        "6. Volta-se para o passo 2\n",
        "7. Calcula-se a esperança fazendo a media aritmética dos números de movimentos nas $5000$ simulações. Para isso, soma-se os elementos da lista com valores obtidos para a variável aleatória X e divide-se o resultado por $5000$.\n",
        "\n",
        "\n",
        "\n",
        "\n"
      ]
    },
    {
      "cell_type": "markdown",
      "metadata": {
        "id": "SBx1r3scWXLF"
      },
      "source": [
        "## Pseudo-Código"
      ]
    },
    {
      "cell_type": "markdown",
      "metadata": {
        "id": "MSXEV090D3PI"
      },
      "source": [
        "\n",
        "\n",
        "```\n",
        "Variável_Aleatória_X <- Lista_vazia\n",
        "\n",
        "para i de 0 a 5000, faça:\n",
        "  Posicoes <- Lista vazia\n",
        "  nó <- 0\n",
        "  n_movimentos <- 0\n",
        "\n",
        "enquanto (1), faça:\n",
        "  se Posicoes contém 0 e 1 e 2 e 3 e 4 e 5:\n",
        "    n_movimentos < n_movimentos -1\n",
        "    Variável_Aleatória_X <- n_movimentos\n",
        "    Pare;\n",
        "\n",
        "  Posicoes <- nó\n",
        "  n_movimentos <- n_movimentos + 1\n",
        "  numero <- random()\n",
        "\n",
        "  se posiçao igual a 0:\n",
        "    se numero menor ou igual a 0.5:\n",
        "      próximo_nó <- 5\n",
        "    senão:\n",
        "      próximo_nó <- 1\n",
        "\n",
        "  senão, se posiçao igual a 5:\n",
        "    se numero menor ou igual a 0.5:\n",
        "      próximo_nó <- 4\n",
        "    senão:\n",
        "      próximo_nó <- 0\n",
        "\n",
        "  senão:\n",
        "    se numero menor ou igual a 0.5:\n",
        "      próximo_nó <- nó - 1\n",
        "    senão:\n",
        "      próximo_nó <- nó + 1\n",
        "\n",
        "  nó <- próximo_nó\n",
        "  \n",
        "\n",
        "```\n",
        "\n"
      ]
    },
    {
      "cell_type": "markdown",
      "metadata": {
        "id": "2B1MgDfLLkYn"
      },
      "source": [
        "## Código"
      ]
    },
    {
      "cell_type": "code",
      "metadata": {
        "id": "Snbe9LdcJiOv",
        "colab": {
          "base_uri": "https://localhost:8080/"
        },
        "outputId": "0bb7500d-c8eb-4cb8-dea0-b7cca6d0cdad"
      },
      "source": [
        "V_A_X_4 = []\n",
        "arquivo4 = open('simulações_questão4.txt', 'w')\n",
        "random.seed(24) #Comentar ou retirar esse comando para que a semente seja escolhida aleatoriamente\n",
        "\n",
        "for i in range (5000):\n",
        "\n",
        "    POSICOES = [] \n",
        "    pos = 0\n",
        "    x = 0\n",
        "\n",
        "    while(1):\n",
        "        \n",
        "        if 0 in POSICOES and 1 in POSICOES and 2 in POSICOES and 3 in POSICOES and 4 in POSICOES and 5 in POSICOES:            \n",
        "            x -= 1\n",
        "            V_A_X_4.append(x)\n",
        "            arquivo4.write(str(i+1) + \"ª Simulação:\\n\" + \"Número de movimentos: \" + str(x))\n",
        "            arquivo4.write(\"\\nSequência de nós visitados: \" + str(POSICOES) + \"\\n\\r\")\n",
        "            break;\n",
        "                \n",
        "        POSICOES.append(pos)  \n",
        "        x += 1\n",
        "        num = random.uniform(0,1)        \n",
        "\n",
        "        if (pos == 0):    \n",
        "            if (num <= 0.5): prox_pos = 5  \n",
        "            else: prox_pos = 1\n",
        "            \n",
        "            \n",
        "        elif (pos == 5):    \n",
        "          if (num <= 0.5): prox_pos = 4 \n",
        "          else: prox_pos = 0\n",
        "            \n",
        "\n",
        "        else: \n",
        "          if (num <= 0.5): prox_pos = pos-1 \n",
        "          else: prox_pos = pos + 1\n",
        "          \n",
        "        pos = prox_pos\n",
        "        \n",
        "\n",
        "arquivo4.close()\n",
        "\n",
        "ESP_X_4 = sum(V_A_X_4)/5000\n",
        "print(\"E(X) = \" + str(ESP_X_4))\n",
        "  "
      ],
      "execution_count": null,
      "outputs": [
        {
          "output_type": "stream",
          "text": [
            "E(X) = 14.9176\n"
          ],
          "name": "stdout"
        }
      ]
    },
    {
      "cell_type": "markdown",
      "metadata": {
        "id": "HlVkAdnDfbOn"
      },
      "source": [
        "## Análise da Esperança"
      ]
    },
    {
      "cell_type": "markdown",
      "metadata": {
        "id": "tRHRy82DXVkM"
      },
      "source": [
        "Na execução feita para o relatório, a esperança obtida foi igual a $14.9176$, ou seja, $E(X) = 14.9176$. Isso significa que em média são realzidos $14,9176 \\approx 15$ movimentos para se visitar todos os nós. É importante ressaltar que esse resultado foi obtido usando $34$ como semente para a geração dos números aleatórios, se essa parte for retirada do códido, a semente será aleatória a cada vez que o código é executado, assim há pequenas alterações nos resultados a cada execução do código que a cada execução pelo fato de que a sequência de números pseudo aleatórios não será a mesma. Contudo, pela precisão do experimento, a variação ocorre em casas decimais, sendo sempre um número que será aproximado para $15$.\n",
        "\n",
        "Obrsevação: Caso desejado, o código gera um arquivo chamado \"simulações_questão4\" contendo a sequência de nós visitados (definido por \"POSICOES\") e número de movimentos, ou seja, o valor da variável aleatória X (definido por \"x\") de cada experimento."
      ]
    },
    {
      "cell_type": "markdown",
      "metadata": {
        "id": "qGpqM1fkYqiT"
      },
      "source": [
        "# **QUESTÃO 5**"
      ]
    },
    {
      "cell_type": "markdown",
      "metadata": {
        "id": "96req18Bhq63"
      },
      "source": [
        "A ideia apresentada no pseudo-código e código abaixo para a questão é a seguinte:\n",
        "\n",
        "1.   VISITAS, ABSORVIDO_EM, VISITAS_EM_1, VISITAS_EM_2 recebem lista vazia, onde cada uma será utilizada para:\n",
        "  *   VISITAS - armazenar os estados em cada simulação\n",
        "  *   ABSORVIDO_EM - armazenar o último estado de cada simulação.\n",
        "  *   VISITAS_EM_1 - armazenar o número de vezes que o estado $1$ foi visitado em cada simulação\n",
        "  *   VISITAS_EM_2 - armazenar o número de vezes que o estado $2$ foi visitado em cada simulação\n",
        "\n",
        "\n",
        "2.   \"vai_pra\" (variável que recebe o estado para qual se tá indo) recebe 1, pois a questão informa que se começa no estado 1.\n",
        "\n",
        "3.   Analisa-se \"vai_pra\" para saber qual o próximo estado a ser visitado.\n",
        "  *   Se vai_pra igual a 0  \n",
        "      * VISITAS recebe 0. \n",
        "      * ABSORVIDO_EM recebe 0\n",
        "      * VISITAS_EM_1 recebe o número de vezes que $1$ aparece em VISITAS\n",
        "      * VISITAS_EM_2 recebe o número de vezes que $2$ aparece em VISITAS\n",
        "      * Se ainda não foram feitas 1000 simulações, volta ao passo 2 para começar uma nova siulação já que 0 é um estado final, mas se for a 1000ª simulação, vai para passo 7.\n",
        "\n",
        "  *   Se vai_pra igual a 3 \n",
        "      * VISITAS recebe 3. \n",
        "      * ABSORVIDO_EM recebe 3\n",
        "      * VISITAS_EM_1 recebe o número de vezes que $1$ aparece em VISITAS\n",
        "      * VISITAS_EM_2 recebe o número de vezes que $2$ aparece em VISITAS\n",
        "      * Se ainda não foram feitas 1000 simulações, volta ao passo 2 para começar uma nova siulação já que 3 é um estado final, mas se for a 1000ª simulação, vai para passo 7.\n",
        "\n",
        "  *   Se vai_pra igual a 1  \n",
        "      * VISITAS recebe 1. \n",
        "      * Gera-se um número aleatório U entre 0 e 1\n",
        "      * Analisa-se o número gerado:\n",
        "          * Se o número gerado for menor ou igual a 0.3, vai_pra recebe 1.\n",
        "          * Se não, vai_pra recebe 3\n",
        "      \n",
        "  *   Se vai_pra igual a 2 \n",
        "      * VISITAS recebe 2. \n",
        "      * Gera-se um número aleatório U entre 0 e 1\n",
        "      * Analisa-se o número gerado:\n",
        "          * Se o número gerado for menor ou igual a 0.3, vai_pra recebe 0.\n",
        "          * Se não, vai_pra recebe 2\n",
        "\n",
        "4. VISITAS_EM_1 recebe o número de vezes que $1$ aparece em VISITAS\n",
        "\n",
        "5. VISITAS_EM_2 recebe o número de vezes que $2$ aparece em VISITAS\n",
        "\n",
        "6. VISITAS recebe lista vazia, volta-se pro passo 3.\n",
        "\n",
        "7. Probabilidade de a cadeia ser absorvida em 0 será igual ao número de vezes que 0 aparece em ABSORVIDO_EM dividido pelo número de simulaçoes feitas que nesse caso é 1000.\n",
        "\n",
        "8. Probabilidade de a cadeia ser absorvida em 3 será igual ao número de vezes que 3 aparece em ABSORVIDO_EM dividido pelo número de simulaçoes feitas que nesse caso é 1000.\n",
        "\n",
        "7. Número médio de visitas ao estado 1 será igual a soma de todos os elementos da lista divido VISITAS_EM_1 dividada pelo número de simulaçoes feitas que nesse caso é 1000.\n",
        "\n",
        "7. Número médio de visitas ao estado 2 será igual a soma de todos os elementos da lista divido VISITAS_EM_2 dividada pelo número de simulaçoes feitas que nesse caso é 1000.\n",
        "\n"
      ]
    },
    {
      "cell_type": "markdown",
      "metadata": {
        "id": "Zn7h0RAXoonK"
      },
      "source": [
        "## Pseudo Código\n",
        "\n",
        "\n",
        "\n",
        "\n",
        "```\n",
        "ABSORVIDO_EM <- Lista vazia\n",
        "VISITAS_EM_1 <- Lista vazia\n",
        "VISITAS_EM_2 <- Lista vazia\n",
        "\n",
        "Para i de 0 a 1000, faça:\n",
        "    VISITAS <- Lista vazia\n",
        "    vai_pra <- 1\n",
        "\n",
        "    enquanto 1, faça:\n",
        "        se vai_pra igual a 0, faça:\n",
        "            VISITAS <- 0\n",
        "            ABSORVIDO_EM <- 0           \n",
        "            para\n",
        "\n",
        "        se vai_pra igual a 1, faça:\n",
        "            VISITAS <- 1\n",
        "            U = número pseudo-aleatório entre 0 e 1\n",
        "            se U menor ou igual a 3: vai_pra <- 0\n",
        "            se não: vai_pra <-2\n",
        "            \n",
        "\n",
        "        se vai_pra igual a 2, faça:\n",
        "            VISITAS <- 2\n",
        "            U <- número pseudo-aleatório entre 0 e 1\n",
        "            se U menor ou igual a 3: vai_pra <- 1\n",
        "            se não: vai_pra <- 3\n",
        "\n",
        "        se vai_pra igual a 3, faça:\n",
        "            VISITAS <-  3\n",
        "            ABSORVIDO_EM <-  3\n",
        "            para\n",
        "\n",
        "    VISITAS_EM_1 <- número de vezes que o 1 aparece na lista VISITAS\n",
        "    VISITAS_EM_2 <- número de vezes que o 2 aparece na lista VISITAS\n",
        "\n",
        "Prob_Absorvida_em_0 <- número de vezes que o 0 aparece na lista ABSORVIDO_EM dividido pelo total de simulações que nesse caso é 1000.\n",
        "\n",
        "Prob_Absorvida_em_3 <- número de vezes que o 3 aparece na lista ABSORVIDO_EM dividido pelo total de simulações que nesse caso é 1000.\n",
        "\n",
        "Num_medio_visitas_1 <- soma de todos os elementos de VISITAS_EM_1) dividida pelo total de simulações que nesse caso é 1000.\n",
        "\n",
        "Num_medio_visitas_2 <- soma de todos os elementos de VISITAS_EM_2 dividida pelo total de simulações que nesse caso é 1000.\n",
        "\n",
        "\n",
        "\n",
        "\n",
        "```\n",
        "\n"
      ]
    },
    {
      "cell_type": "markdown",
      "metadata": {
        "id": "BREp8ihDbaJv"
      },
      "source": [
        "## Código"
      ]
    },
    {
      "cell_type": "code",
      "metadata": {
        "id": "7s8hDrb0YwGA"
      },
      "source": [
        "VISITAS = []\n",
        "ABSORVIDO_EM = []\n",
        "VISITAS_EM_1 = []\n",
        "VISITAS_EM_2 = []\n",
        "random.seed(15) #Comentar ou retirar esse comando para que a semente seja escolhida aleatoriamente\n",
        "\n",
        "for i in range (1000):\n",
        "    VISITAS = []\n",
        "    vai_pra = 1\n",
        "\n",
        "    while(1):\n",
        "        if (vai_pra == 0):\n",
        "            VISITAS.append(0)\n",
        "            ABSORVIDO_EM.append(0)            \n",
        "            break\n",
        "\n",
        "        if (vai_pra == 1):\n",
        "            VISITAS.append(1)\n",
        "            num = random.uniform(0,1)\n",
        "            if (num <= 0.3): vai_pra = 0\n",
        "            else: vai_pra = 2\n",
        "            \n",
        "\n",
        "        if (vai_pra == 2):\n",
        "            VISITAS.append(2)\n",
        "            num = random.uniform(0,1)\n",
        "            if (num <= 0.3): vai_pra = 1\n",
        "            else: vai_pra = 3\n",
        "\n",
        "        if (vai_pra == 3):\n",
        "            VISITAS.append(3)\n",
        "            ABSORVIDO_EM.append(3)\n",
        "            break\n",
        "\n",
        "    VISITAS_EM_1.append(VISITAS.count(1))\n",
        "    VISITAS_EM_2.append(VISITAS.count(2))"
      ],
      "execution_count": null,
      "outputs": []
    },
    {
      "cell_type": "markdown",
      "metadata": {
        "id": "4ZfieqSbeKuH"
      },
      "source": [
        "## a) \n",
        "\n",
        "Importante ressaltar que para esse item e para os demais abaixo os resultados foram obtidos usando $15$ como semente para a geração dos números aleatórios, se essa parte for retirada do código, a semente será aleatória a cada vez que o código é executado, assim há pequenas alterações nos resultados a cada execução do código, já que os números pseudo-aleatórios serão diferentes.\n",
        "\n",
        "Para obter-se a probabilidade de a cadeia ser absorvida no estado $0$, o vetor \"ABSORVIDO_EM\" foi utilizado para armazenar o último estado de cada simulação, dessa forma, a probabilade pedida será igual ao número de vezes que o $0$ aparece no vetor, ou seja, o número de vezes que um experimento foi absorvido no estado $0$, sobre o número simulações que é igual a $1000$.\n",
        "\n",
        "A probabilidade pedida obtida pelo código foi igual a $0.364 $, ou seja, há $36,4\\%$ de chances da cadeia ser absorvida no estado $0$."
      ]
    },
    {
      "cell_type": "code",
      "metadata": {
        "id": "rCO5dEn_cMP5",
        "colab": {
          "base_uri": "https://localhost:8080/"
        },
        "outputId": "6c67c54d-abf8-4ea9-afc5-98e4f2d5b01e"
      },
      "source": [
        "Prob_Absorvida_em_0 = ABSORVIDO_EM.count(0)/1000\n",
        "Prob_Absorvida_em_0"
      ],
      "execution_count": null,
      "outputs": [
        {
          "output_type": "execute_result",
          "data": {
            "text/plain": [
              "0.364"
            ]
          },
          "metadata": {
            "tags": []
          },
          "execution_count": 128
        }
      ]
    },
    {
      "cell_type": "markdown",
      "metadata": {
        "id": "qVwXb1LieOl-"
      },
      "source": [
        "## b)\n",
        "\n",
        "Assim como nno item a), para obter-se a probabilidade de a cadeia ser absorvida no estado $3$, o vetor \"ABSORVIDO_EM\" foi utilizado para armazenar o último estado de cada simulação, dessa forma, a probabilade pedida aqui será igual ao número de vezes que o $3$ aparece no vetor, ou seja, o número de vezes que um experimento foi absorvido no estado $3$, sobre o número simulações que é igual a $1000$.\n",
        "\n",
        "A probabilidade pedida obtida pelo código foi igual a $0.636$, ou seja, há $63,6\\%$ de chances da cadeia ser absorvida no estado $0$.\n",
        "\n",
        "Observa-se que a soma da probabilidade de a cadeia ser absorvida em $0$ e da probabilidade de a cadeia ser absorvida em $3$ deve ser igual a $1$, já que que a cadeia só pode ser absorvida em um desses dois estados. Nota-se também que a probabilidade de a cadeia ser absorvida em $3$ é maior do que a dela ser absorvida em $0$."
      ]
    },
    {
      "cell_type": "code",
      "metadata": {
        "id": "qJ2I89E1cxST",
        "colab": {
          "base_uri": "https://localhost:8080/"
        },
        "outputId": "4c20c19c-595d-42a2-eb84-d21ed67373c0"
      },
      "source": [
        "Prob_Absorvida_em_3 = ABSORVIDO_EM.count(3)/1000\n",
        "Prob_Absorvida_em_3"
      ],
      "execution_count": null,
      "outputs": [
        {
          "output_type": "execute_result",
          "data": {
            "text/plain": [
              "0.636"
            ]
          },
          "metadata": {
            "tags": []
          },
          "execution_count": 129
        }
      ]
    },
    {
      "cell_type": "markdown",
      "metadata": {
        "id": "fQAyM0K_ePD3"
      },
      "source": [
        "## c) \n",
        "\n",
        "Para obter-se o número médio de visitas ao estado $1$ antes da absorção, um vetor (\"VISITAS\") recebe todos os estados visitados em cada simulação e aṕos a cadeia ter sido absorvida, um outro vetor (\"VISITAS_EM_1\") recebe o número de vezes que o $1$ aparece em \"VISITAS\", assim, VISITAS_EM_1 recebe o número de visitas ao estado $1$ em cada simulação. Dessa forma, a número médio de visitas ao estado $1$ será igual a soma dos elementos da vetor VISITAS_EM_1, ou seja, a soma do número de visitas ao estado $1$ em cada simulação, dividida pelo número total de simulações que é igual a $1000$.\n",
        "\n",
        "O número médio de visitas ao estado $1$ obito pelo código foi igual a $1,276$, assim, em média é feita uma visita no estado $1$ antes de a cadeia ser absorvida."
      ]
    },
    {
      "cell_type": "code",
      "metadata": {
        "id": "J3Izuj_odD4H",
        "colab": {
          "base_uri": "https://localhost:8080/"
        },
        "outputId": "781cd667-ed53-4036-e5e6-9ad80f2efaa6"
      },
      "source": [
        "Num_medio_visitas_1 = sum(VISITAS_EM_1)/1000\n",
        "Num_medio_visitas_1"
      ],
      "execution_count": null,
      "outputs": [
        {
          "output_type": "execute_result",
          "data": {
            "text/plain": [
              "1.276"
            ]
          },
          "metadata": {
            "tags": []
          },
          "execution_count": 130
        }
      ]
    },
    {
      "cell_type": "markdown",
      "metadata": {
        "id": "czcIAfRqeO6V"
      },
      "source": [
        "## d)\n",
        "\n",
        "\n",
        "Assim como no item c), para obter-se o número médio de visitas ao estado $2$ antes da absorção, um vetor (\"VISITAS\") recebe todos os estados visitados em cada simulação e aṕos a cadeia ter sido absorvida, um outro vetor (\"VISITAS_EM_2\") recebe o número de vezes que o $2$ aparece em \"VISITAS\", assim, VISITAS_EM_1 recebe o número de visitas ao estado $2$ em cada simulação. Dessa forma, a número médio de visitas ao estado $2$ será igual a soma dos elementos da vetor VISITAS_EM_2, ou seja, a soma do número de visitas ao estado $2$ em cada simulação, dividida pelo número total de simulações que é igual a $1000$.\n",
        "\n",
        "O número médio de visitas ao estado 1 obito pelo código foi igual a $0,912$. Observa-se que o número médio de visitas ao estado $1$ é maior que o número médio de visitas ao estado $2$."
      ]
    },
    {
      "cell_type": "code",
      "metadata": {
        "id": "t-9bvR26bgKo",
        "colab": {
          "base_uri": "https://localhost:8080/"
        },
        "outputId": "f0ed3429-bd8c-4fb9-b091-39ba9b79d245"
      },
      "source": [
        "Num_medio_visitas_2 = sum(VISITAS_EM_2)/1000\n",
        "Num_medio_visitas_2"
      ],
      "execution_count": null,
      "outputs": [
        {
          "output_type": "execute_result",
          "data": {
            "text/plain": [
              "0.912"
            ]
          },
          "metadata": {
            "tags": []
          },
          "execution_count": 131
        }
      ]
    }
  ]
}